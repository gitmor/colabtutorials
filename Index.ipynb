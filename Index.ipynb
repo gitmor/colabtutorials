{
  "nbformat": 4,
  "nbformat_minor": 0,
  "metadata": {
    "colab": {
      "name": "Index.ipynb",
      "provenance": [],
      "collapsed_sections": [],
      "authorship_tag": "ABX9TyPdmZbTP1V/PXYMJeeezXQV",
      "include_colab_link": true
    },
    "kernelspec": {
      "name": "python3",
      "display_name": "Python 3"
    }
  },
  "cells": [
    {
      "cell_type": "markdown",
      "metadata": {
        "id": "view-in-github",
        "colab_type": "text"
      },
      "source": [
        "<a href=\"https://colab.research.google.com/github/gitmor/colabtutorials/blob/main/Index.ipynb\" target=\"_parent\"><img src=\"https://colab.research.google.com/assets/colab-badge.svg\" alt=\"Open In Colab\"/></a>"
      ]
    },
    {
      "cell_type": "markdown",
      "metadata": {
        "id": "wrGWYHe0P4pM"
      },
      "source": [
        "## Table of Contents\r\n",
        "\r\n",
        "### [Preface](Preface.ipynb)\r\n",
        "\r\n",
        "### [1. Introduction](01_00_Introduction.ipynb)\r\n",
        "- [Basic introduction](ColabAndnumpyDemo0.ipynb)\r\n",
        "\r\n",
        "### [2. NumPy](02_00_NumPy.ipynb)\r\n",
        "- [NumPy Arrays](02_01_NumPy_Arrays.ipynb)\r\n",
        "\r\n",
        "### [3. Pandas](03_00_Pandas.ipynb)\r\n",
        "- [Pandas Introduction](03_01_Pandas_Introduction.ipynb)\r\n",
        "\r\n",
        "### [Appendix: Figure Code](06_00_Figures.ipynb)"
      ]
    }
  ]
}