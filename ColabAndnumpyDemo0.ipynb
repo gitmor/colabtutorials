{
  "nbformat": 4,
  "nbformat_minor": 0,
  "metadata": {
    "colab": {
      "name": "ColabAndnumpyDemo0.ipynb",
      "provenance": [],
      "collapsed_sections": [],
      "authorship_tag": "ABX9TyNlY2g5DLJKvMpI3Mr4/YjL",
      "include_colab_link": true
    },
    "kernelspec": {
      "name": "python3",
      "display_name": "Python 3"
    }
  },
  "cells": [
    {
      "cell_type": "markdown",
      "metadata": {
        "id": "view-in-github",
        "colab_type": "text"
      },
      "source": [
        "<a href=\"https://colab.research.google.com/github/gitmor/colabtutorials/blob/main/ColabAndnumpyDemo0.ipynb\" target=\"_parent\"><img src=\"https://colab.research.google.com/assets/colab-badge.svg\" alt=\"Open In Colab\"/></a>"
      ]
    },
    {
      "cell_type": "markdown",
      "metadata": {
        "id": "7bPw12YW1q1T"
      },
      "source": [
        "<table class=\"tfo-notebook-buttons\" align=\"left\">\r\n",
        "  <td>\r\n",
        "    <a target=\"_blank\" href=\"https://colab.research.google.com/github/gitmor/colabtutorials/blob/main/ColabAndnumpyDemo0.ipynb\"><img src=\"https://www.tensorflow.org/images/colab_logo_32px.png\" />Run in Google Colab</a>\r\n",
        "  </td>\r\n",
        "  <td>\r\n",
        "    <a target=\"_blank\" href=\"https://github.com/gitmor/colabtutorials/blob/main/ColabAndnumpyDemo0.ipynb\"><img src=\"https://www.tensorflow.org/images/GitHub-Mark-32px.png\" />View source on GitHub</a>\r\n",
        "  </td>\r\n",
        "</table>"
      ]
    },
    {
      "cell_type": "markdown",
      "metadata": {
        "id": "_f7BvQ4YSjMR"
      },
      "source": [
        "# Introduction\r\n",
        "This is a test notebook that tries to explain a few things in Python on Google Colab to teach my kids (and more importantly myself) on how to use various tools such as Google Colab, python, markdown, Python notebooks, collaborative development, git version control, experimentation with code for interactive learning"
      ]
    },
    {
      "cell_type": "markdown",
      "metadata": {
        "id": "C--JdlAtMp-w"
      },
      "source": [
        "## How to Print a simple thing in Python?\r\n",
        "We will learn how to print a simple string in python. Since programming languages are more fun to learn through interactive experiments, instead of thoery, let us jump right in. \r\n",
        "\r\n",
        "Run the cell below in Google Colab & see what happens.\r\n",
        "\r\n",
        "So what does python code snippet below do?\r\n",
        "\r\n",
        "- The code takes a **string** as an **argument** and **prints** the string passed as argument\r\n",
        "- In this example, the string \"hello world\" is passed to **python function  \"print\"** \r\n",
        "- When the code is executed (ie the \"cell is run\"), the **python function \"print\"** takes the passed in string (it need not be the exact above string & it can be any string) & prints the value that was passed to it. "
      ]
    },
    {
      "cell_type": "code",
      "metadata": {
        "id": "jgos9aIZWqNy"
      },
      "source": [
        "print ('hello, world')"
      ],
      "execution_count": null,
      "outputs": []
    },
    {
      "cell_type": "markdown",
      "metadata": {
        "id": "c3tcByuCTh08"
      },
      "source": [
        "## So what happened when you run the above cell? What did you learn?\r\n",
        "\r\n",
        "- Note to users: So fork this github repo & Use this space on the notebook to write your learning & observations & commit to github so you can keep a note for yourself as you do these exercises.\r\n",
        "\r\n",
        "- Now this opens a whole can of worms on \"forking a repo in github\", \"committing things in github\". So what do these terms mean? Don't worry we will learn this in more depth in future. You can revisit this at a later time & fill in details after you have learned those details. You can ignore it for now, since it is not good to learn too many things at a time since it won't reinforce learning. One small thing at a time. So keep these in the back of your mind as you learn these items & we can put everything together at a later date.\r\n",
        "\r\n",
        "### Exercises:\r\n",
        "- So what happens when you change the above string to 'hello cruel world' & re-run the cell again? What result do you expect & what actually happened? \r\n",
        "- Did it work? If there were errors, what were they? How did you fix those errors? What was wrong & what did you learn from the mistakes?\r\n",
        "\r\n",
        "### Advanced:\r\n",
        "- So can I use some other way to quote the string & can it still work?\r\n"
      ]
    },
    {
      "cell_type": "code",
      "metadata": {
        "colab": {
          "base_uri": "https://localhost:8080/",
          "height": 0
        },
        "id": "JsdrJEVXgDJ2",
        "outputId": "248c26f9-34af-40b0-9be9-b98e907198c3"
      },
      "source": [
        "print (\"hello cruel world\")"
      ],
      "execution_count": 5,
      "outputs": [
        {
          "output_type": "stream",
          "text": [
            "hello cruel world\n"
          ],
          "name": "stdout"
        }
      ]
    },
    {
      "cell_type": "markdown",
      "metadata": {
        "id": "eBVvVrIngQUj"
      },
      "source": [
        "### Observation: \r\n",
        "Hmmm. What is going on above? We used a double-quote for a string & that also worked? No errors? How? In python, I beleive we can use both single quotes or double quotes to denote a string. Ok, cool. So we learned two ways to denote a string in Python."
      ]
    },
    {
      "cell_type": "markdown",
      "metadata": {
        "id": "CWZL2_09hXSx"
      },
      "source": [
        "### Advanced:\r\n",
        "- What if I want to print **Hello \"World\"** instead of **Hello World** ? How will it work?\r\n",
        "- What if I want to print **Hello 'World'** instead of **Hello World**? How will it work?\r\n",
        "\r\n",
        "### Experiment:\r\n",
        "Let us try this experiment & see what happens. Perhaps we can combine the above knowledge (ie we can use both \"thestring\" & 'thestring' to denote strings in Python) & use it to get the result we want. Let us try. Run the cells below to see what happens."
      ]
    },
    {
      "cell_type": "code",
      "metadata": {
        "colab": {
          "base_uri": "https://localhost:8080/",
          "height": 0
        },
        "id": "CzCoq8PeiLjB",
        "outputId": "686caef3-e6d1-4c6c-f0a8-57cec05c06ea"
      },
      "source": [
        "print ('Hello \"World\"')"
      ],
      "execution_count": 6,
      "outputs": [
        {
          "output_type": "stream",
          "text": [
            "Hello \"World\"\n"
          ],
          "name": "stdout"
        }
      ]
    },
    {
      "cell_type": "code",
      "metadata": {
        "colab": {
          "base_uri": "https://localhost:8080/",
          "height": 0
        },
        "id": "42bsf0_AiTqv",
        "outputId": "639d50be-62b7-4241-812a-8aebdbcc3139"
      },
      "source": [
        "print (\"Hello 'World'\")"
      ],
      "execution_count": 7,
      "outputs": [
        {
          "output_type": "stream",
          "text": [
            "Hello 'World'\n"
          ],
          "name": "stdout"
        }
      ]
    },
    {
      "cell_type": "markdown",
      "metadata": {
        "id": "6qLJFu1Yi1BH"
      },
      "source": [
        "### Observation:\r\n",
        "Hmmm. So looks like our hunch was right.  We have combined our knowledge on Python strings & got the results we wanted. "
      ]
    }
  ]
}