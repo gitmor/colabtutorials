{
  "nbformat": 4,
  "nbformat_minor": 0,
  "metadata": {
    "colab": {
      "name": "ColabAndnumpyDemo0.ipynb",
      "provenance": [],
      "collapsed_sections": [],
      "authorship_tag": "ABX9TyNf7agfT9CGhd3uh5pLlo/Q",
      "include_colab_link": true
    },
    "kernelspec": {
      "name": "python3",
      "display_name": "Python 3"
    }
  },
  "cells": [
    {
      "cell_type": "markdown",
      "metadata": {
        "id": "view-in-github",
        "colab_type": "text"
      },
      "source": [
        "<a href=\"https://colab.research.google.com/github/gitmor/colabtutorials/blob/main/ColabAndnumpyDemo0.ipynb\" target=\"_parent\"><img src=\"https://colab.research.google.com/assets/colab-badge.svg\" alt=\"Open In Colab\"/></a>"
      ]
    },
    {
      "cell_type": "code",
      "metadata": {
        "colab": {
          "base_uri": "https://localhost:8080/"
        },
        "id": "jgos9aIZWqNy",
        "outputId": "41e758d9-4946-4b1e-f7fc-083895c21126"
      },
      "source": [
        "print ('hello, world')"
      ],
      "execution_count": null,
      "outputs": [
        {
          "output_type": "stream",
          "text": [
            "hello, world\n"
          ],
          "name": "stdout"
        }
      ]
    },
    {
      "cell_type": "code",
      "metadata": {
        "id": "6P_5a5aVL0bh"
      },
      "source": [
        ""
      ],
      "execution_count": null,
      "outputs": []
    },
    {
      "cell_type": "markdown",
      "metadata": {
        "id": "C--JdlAtMp-w"
      },
      "source": [
        "# What does above code do?\r\n",
        "- The above code takes a string as argument and prints the string passed as argument\r\n",
        "- In above example, string \"hello world\" is passed to pyhton function  print "
      ]
    },
    {
      "cell_type": "code",
      "metadata": {
        "colab": {
          "base_uri": "https://localhost:8080/"
        },
        "id": "nUuAMss8XLh7",
        "outputId": "dca89fba-47eb-454d-ced7-31a2f1833df4"
      },
      "source": [
        "def HelloWorldXY(x, y):\r\n",
        "  if (x < 10):\r\n",
        "    print(\"Hello World, x was < 10\")\r\n",
        "  elif (x < 20):\r\n",
        "    print(\"Hello World, x was >= 10 but < 20\")\r\n",
        "  else:\r\n",
        "    print(\"Hello World, x was >= 20\")\r\n",
        "  return x + y\r\n",
        "\r\n",
        "for i in range(8, 356, 5):  # i=8, 13, 18, 23 (start, stop, step)\r\n",
        "  print(\"--- Now running with i: {}\".format(i))\r\n",
        "  r = HelloWorldXY(i,i)\r\n",
        "  print(\"Result from HelloWorld: {}\".format(r))\r\n"
      ],
      "execution_count": 3,
      "outputs": [
        {
          "output_type": "stream",
          "text": [
            "--- Now running with i: 8\n",
            "Hello World, x was < 10\n",
            "Result from HelloWorld: 16\n",
            "--- Now running with i: 13\n",
            "Hello World, x was >= 10 but < 20\n",
            "Result from HelloWorld: 26\n",
            "--- Now running with i: 18\n",
            "Hello World, x was >= 10 but < 20\n",
            "Result from HelloWorld: 36\n",
            "--- Now running with i: 23\n",
            "Hello World, x was >= 20\n",
            "Result from HelloWorld: 46\n",
            "--- Now running with i: 28\n",
            "Hello World, x was >= 20\n",
            "Result from HelloWorld: 56\n",
            "--- Now running with i: 33\n",
            "Hello World, x was >= 20\n",
            "Result from HelloWorld: 66\n",
            "--- Now running with i: 38\n",
            "Hello World, x was >= 20\n",
            "Result from HelloWorld: 76\n",
            "--- Now running with i: 43\n",
            "Hello World, x was >= 20\n",
            "Result from HelloWorld: 86\n",
            "--- Now running with i: 48\n",
            "Hello World, x was >= 20\n",
            "Result from HelloWorld: 96\n",
            "--- Now running with i: 53\n",
            "Hello World, x was >= 20\n",
            "Result from HelloWorld: 106\n",
            "--- Now running with i: 58\n",
            "Hello World, x was >= 20\n",
            "Result from HelloWorld: 116\n",
            "--- Now running with i: 63\n",
            "Hello World, x was >= 20\n",
            "Result from HelloWorld: 126\n",
            "--- Now running with i: 68\n",
            "Hello World, x was >= 20\n",
            "Result from HelloWorld: 136\n",
            "--- Now running with i: 73\n",
            "Hello World, x was >= 20\n",
            "Result from HelloWorld: 146\n",
            "--- Now running with i: 78\n",
            "Hello World, x was >= 20\n",
            "Result from HelloWorld: 156\n",
            "--- Now running with i: 83\n",
            "Hello World, x was >= 20\n",
            "Result from HelloWorld: 166\n",
            "--- Now running with i: 88\n",
            "Hello World, x was >= 20\n",
            "Result from HelloWorld: 176\n",
            "--- Now running with i: 93\n",
            "Hello World, x was >= 20\n",
            "Result from HelloWorld: 186\n",
            "--- Now running with i: 98\n",
            "Hello World, x was >= 20\n",
            "Result from HelloWorld: 196\n",
            "--- Now running with i: 103\n",
            "Hello World, x was >= 20\n",
            "Result from HelloWorld: 206\n",
            "--- Now running with i: 108\n",
            "Hello World, x was >= 20\n",
            "Result from HelloWorld: 216\n",
            "--- Now running with i: 113\n",
            "Hello World, x was >= 20\n",
            "Result from HelloWorld: 226\n",
            "--- Now running with i: 118\n",
            "Hello World, x was >= 20\n",
            "Result from HelloWorld: 236\n",
            "--- Now running with i: 123\n",
            "Hello World, x was >= 20\n",
            "Result from HelloWorld: 246\n",
            "--- Now running with i: 128\n",
            "Hello World, x was >= 20\n",
            "Result from HelloWorld: 256\n",
            "--- Now running with i: 133\n",
            "Hello World, x was >= 20\n",
            "Result from HelloWorld: 266\n",
            "--- Now running with i: 138\n",
            "Hello World, x was >= 20\n",
            "Result from HelloWorld: 276\n",
            "--- Now running with i: 143\n",
            "Hello World, x was >= 20\n",
            "Result from HelloWorld: 286\n",
            "--- Now running with i: 148\n",
            "Hello World, x was >= 20\n",
            "Result from HelloWorld: 296\n",
            "--- Now running with i: 153\n",
            "Hello World, x was >= 20\n",
            "Result from HelloWorld: 306\n",
            "--- Now running with i: 158\n",
            "Hello World, x was >= 20\n",
            "Result from HelloWorld: 316\n",
            "--- Now running with i: 163\n",
            "Hello World, x was >= 20\n",
            "Result from HelloWorld: 326\n",
            "--- Now running with i: 168\n",
            "Hello World, x was >= 20\n",
            "Result from HelloWorld: 336\n",
            "--- Now running with i: 173\n",
            "Hello World, x was >= 20\n",
            "Result from HelloWorld: 346\n",
            "--- Now running with i: 178\n",
            "Hello World, x was >= 20\n",
            "Result from HelloWorld: 356\n",
            "--- Now running with i: 183\n",
            "Hello World, x was >= 20\n",
            "Result from HelloWorld: 366\n",
            "--- Now running with i: 188\n",
            "Hello World, x was >= 20\n",
            "Result from HelloWorld: 376\n",
            "--- Now running with i: 193\n",
            "Hello World, x was >= 20\n",
            "Result from HelloWorld: 386\n",
            "--- Now running with i: 198\n",
            "Hello World, x was >= 20\n",
            "Result from HelloWorld: 396\n",
            "--- Now running with i: 203\n",
            "Hello World, x was >= 20\n",
            "Result from HelloWorld: 406\n",
            "--- Now running with i: 208\n",
            "Hello World, x was >= 20\n",
            "Result from HelloWorld: 416\n",
            "--- Now running with i: 213\n",
            "Hello World, x was >= 20\n",
            "Result from HelloWorld: 426\n",
            "--- Now running with i: 218\n",
            "Hello World, x was >= 20\n",
            "Result from HelloWorld: 436\n",
            "--- Now running with i: 223\n",
            "Hello World, x was >= 20\n",
            "Result from HelloWorld: 446\n",
            "--- Now running with i: 228\n",
            "Hello World, x was >= 20\n",
            "Result from HelloWorld: 456\n",
            "--- Now running with i: 233\n",
            "Hello World, x was >= 20\n",
            "Result from HelloWorld: 466\n",
            "--- Now running with i: 238\n",
            "Hello World, x was >= 20\n",
            "Result from HelloWorld: 476\n",
            "--- Now running with i: 243\n",
            "Hello World, x was >= 20\n",
            "Result from HelloWorld: 486\n",
            "--- Now running with i: 248\n",
            "Hello World, x was >= 20\n",
            "Result from HelloWorld: 496\n",
            "--- Now running with i: 253\n",
            "Hello World, x was >= 20\n",
            "Result from HelloWorld: 506\n",
            "--- Now running with i: 258\n",
            "Hello World, x was >= 20\n",
            "Result from HelloWorld: 516\n",
            "--- Now running with i: 263\n",
            "Hello World, x was >= 20\n",
            "Result from HelloWorld: 526\n",
            "--- Now running with i: 268\n",
            "Hello World, x was >= 20\n",
            "Result from HelloWorld: 536\n",
            "--- Now running with i: 273\n",
            "Hello World, x was >= 20\n",
            "Result from HelloWorld: 546\n",
            "--- Now running with i: 278\n",
            "Hello World, x was >= 20\n",
            "Result from HelloWorld: 556\n",
            "--- Now running with i: 283\n",
            "Hello World, x was >= 20\n",
            "Result from HelloWorld: 566\n",
            "--- Now running with i: 288\n",
            "Hello World, x was >= 20\n",
            "Result from HelloWorld: 576\n",
            "--- Now running with i: 293\n",
            "Hello World, x was >= 20\n",
            "Result from HelloWorld: 586\n",
            "--- Now running with i: 298\n",
            "Hello World, x was >= 20\n",
            "Result from HelloWorld: 596\n",
            "--- Now running with i: 303\n",
            "Hello World, x was >= 20\n",
            "Result from HelloWorld: 606\n",
            "--- Now running with i: 308\n",
            "Hello World, x was >= 20\n",
            "Result from HelloWorld: 616\n",
            "--- Now running with i: 313\n",
            "Hello World, x was >= 20\n",
            "Result from HelloWorld: 626\n",
            "--- Now running with i: 318\n",
            "Hello World, x was >= 20\n",
            "Result from HelloWorld: 636\n",
            "--- Now running with i: 323\n",
            "Hello World, x was >= 20\n",
            "Result from HelloWorld: 646\n",
            "--- Now running with i: 328\n",
            "Hello World, x was >= 20\n",
            "Result from HelloWorld: 656\n",
            "--- Now running with i: 333\n",
            "Hello World, x was >= 20\n",
            "Result from HelloWorld: 666\n",
            "--- Now running with i: 338\n",
            "Hello World, x was >= 20\n",
            "Result from HelloWorld: 676\n",
            "--- Now running with i: 343\n",
            "Hello World, x was >= 20\n",
            "Result from HelloWorld: 686\n",
            "--- Now running with i: 348\n",
            "Hello World, x was >= 20\n",
            "Result from HelloWorld: 696\n",
            "--- Now running with i: 353\n",
            "Hello World, x was >= 20\n",
            "Result from HelloWorld: 706\n"
          ],
          "name": "stdout"
        }
      ]
    },
    {
      "cell_type": "markdown",
      "metadata": {
        "id": "U_6FDvwJNk5I"
      },
      "source": [
        ""
      ]
    },
    {
      "cell_type": "markdown",
      "metadata": {
        "id": "TN0yrcFJNmc3"
      },
      "source": [
        "## Introduction\r\n",
        "This project is done by VIvek & I will explain a few features below\""
      ]
    },
    {
      "cell_type": "code",
      "metadata": {
        "id": "wZpH6xJQbDKo"
      },
      "source": [
        ""
      ],
      "execution_count": null,
      "outputs": []
    },
    {
      "cell_type": "code",
      "metadata": {
        "colab": {
          "base_uri": "https://localhost:8080/"
        },
        "id": "3YlUKu8xXTVG",
        "outputId": "50f1118a-7378-4e65-fb35-f12cc8de87f7"
      },
      "source": [
        "print(HelloWorldXY(1,2))"
      ],
      "execution_count": null,
      "outputs": [
        {
          "output_type": "stream",
          "text": [
            "Hello World, x was < 10\n",
            "3\n"
          ],
          "name": "stdout"
        }
      ]
    },
    {
      "cell_type": "code",
      "metadata": {
        "colab": {
          "base_uri": "https://localhost:8080/"
        },
        "id": "Zr0l1XhBbEYv",
        "outputId": "badfa322-ac07-4593-e159-e50f7e39357a"
      },
      "source": [
        "import numpy as np  # Make numpy available using np.\r\n",
        "\r\n",
        "# Create a numpy array, and append an element\r\n",
        "a = np.array([\"Hello\", \"World\"])\r\n",
        "a = np.append(a, \"!\")\r\n",
        "print(\"Current array: {}\".format(a))\r\n",
        "print(\"Printing each element\")\r\n",
        "for i in a:\r\n",
        "  print(i)\r\n",
        "\r\n",
        "print(\"\\nPrinting each element and their index\")\r\n",
        "for i,e in enumerate(a):\r\n",
        "  print(\"Index: {}, was: {}\".format(i, e))"
      ],
      "execution_count": null,
      "outputs": [
        {
          "output_type": "stream",
          "text": [
            "Current array: ['Hello' 'World' '!']\n",
            "Printing each element\n",
            "Hello\n",
            "World\n",
            "!\n",
            "\n",
            "Printing each element and their index\n",
            "Index: 0, was: Hello\n",
            "Index: 1, was: World\n",
            "Index: 2, was: !\n"
          ],
          "name": "stdout"
        }
      ]
    },
    {
      "cell_type": "code",
      "metadata": {
        "colab": {
          "base_uri": "https://localhost:8080/"
        },
        "id": "uzgGmqyadvrj",
        "outputId": "195ad9bf-8a81-43a1-f1f6-c561a80108d1"
      },
      "source": [
        "import numpy as np  # Make numpy available using np.\r\n",
        "\r\n",
        "# Create a numpy array, and append an element\r\n",
        "a = np.array([\"Hello\", \"World\"])\r\n",
        "a = np.append(a, \"!\")\r\n",
        "print(\"Current array: {}\".format(a))\r\n",
        "print(\"Printing each element\")\r\n",
        "for i in a:\r\n",
        "  print(i)\r\n",
        "\r\n",
        "print(\"\\nPrinting each element and their index\")\r\n",
        "for i,e in enumerate(a):\r\n",
        "  print(\"Index: {}, was: {}\".format(i, e))"
      ],
      "execution_count": null,
      "outputs": [
        {
          "output_type": "stream",
          "text": [
            "Current array: ['Hello' 'World' '!']\n",
            "Printing each element\n",
            "Hello\n",
            "World\n",
            "!\n",
            "\n",
            "Printing each element and their index\n",
            "Index: 0, was: Hello\n",
            "Index: 1, was: World\n",
            "Index: 2, was: !\n"
          ],
          "name": "stdout"
        }
      ]
    },
    {
      "cell_type": "code",
      "metadata": {
        "colab": {
          "base_uri": "https://localhost:8080/"
        },
        "id": "GJ3fXzzld1HQ",
        "outputId": "0390bf60-0b0c-48bb-a4e2-9c205decb375"
      },
      "source": [
        "print(\"\\nShowing some basic math on arrays\")\r\n",
        "b = np.array([0,1,4,3,2])\r\n",
        "print(\"Max: {}\".format(np.max(b)))\r\n",
        "print(\"Average: {}\".format(np.average(b)))\r\n",
        "print(\"Max index: {}\".format(np.argmax(b)))"
      ],
      "execution_count": null,
      "outputs": [
        {
          "output_type": "stream",
          "text": [
            "\n",
            "Showing some basic math on arrays\n",
            "Max: 4\n",
            "Average: 2.0\n",
            "Max index: 2\n"
          ],
          "name": "stdout"
        }
      ]
    },
    {
      "cell_type": "code",
      "metadata": {
        "colab": {
          "base_uri": "https://localhost:8080/"
        },
        "id": "B8jPjP6Ohy6p",
        "outputId": "893238fc-ae0c-4622-e954-b172ee1b3599"
      },
      "source": [
        "print(\"\\nYou can print the type of anything\")\r\n",
        "print(\"Type of b: {}, type of b[0]: {}\".format(type(b), type(b[0])))"
      ],
      "execution_count": null,
      "outputs": [
        {
          "output_type": "stream",
          "text": [
            "\n",
            "You can print the type of anything\n",
            "Type of b: <class 'numpy.ndarray'>, type of b[0]: <class 'numpy.int64'>\n"
          ],
          "name": "stdout"
        }
      ]
    },
    {
      "cell_type": "code",
      "metadata": {
        "colab": {
          "base_uri": "https://localhost:8080/"
        },
        "id": "N8EB1sNXh3Hx",
        "outputId": "23fd7c1f-d749-459d-fed9-6185e7a0b1b9"
      },
      "source": [
        "print(\"\\nUse numpy to create a [3,3] dimension array with random number\")\r\n",
        "c = np.random.rand(3, 3)\r\n",
        "print(c)"
      ],
      "execution_count": null,
      "outputs": [
        {
          "output_type": "stream",
          "text": [
            "\n",
            "Use numpy to create a [3,3] dimension array with random number\n",
            "[[0.35272254 0.28295575 0.0683586 ]\n",
            " [0.71598289 0.91028171 0.02130261]\n",
            " [0.6678673  0.47779348 0.58997831]]\n"
          ],
          "name": "stdout"
        }
      ]
    },
    {
      "cell_type": "code",
      "metadata": {
        "colab": {
          "base_uri": "https://localhost:8080/"
        },
        "id": "6JUkqiW3iQEp",
        "outputId": "c73ce1fc-f57a-4d4f-a750-fb933ddc459e"
      },
      "source": [
        "print(\"\\nYou can print the dimensions of arrays\")\r\n",
        "print(\"Shape of a: {}\".format(a.shape))\r\n",
        "print(\"Shape of b: {}\".format(b.shape))\r\n",
        "print(\"Shape of c: {}\".format(c.shape))\r\n",
        "print(\"...Observe, Python uses both [0,1,2] and (0,1,2) to specify lists\")"
      ],
      "execution_count": null,
      "outputs": [
        {
          "output_type": "stream",
          "text": [
            "\n",
            "You can print the dimensions of arrays\n",
            "Shape of a: (3,)\n",
            "Shape of b: (5,)\n",
            "Shape of c: (3, 3)\n",
            "...Observe, Python uses both [0,1,2] and (0,1,2) to specify lists\n"
          ],
          "name": "stdout"
        }
      ]
    },
    {
      "cell_type": "code",
      "metadata": {
        "colab": {
          "base_uri": "https://localhost:8080/"
        },
        "id": "Qhowx7kvf7rS",
        "outputId": "7dc2b4ad-375e-4c8c-f03e-cef443752745"
      },
      "source": [
        "# Python Program illustarting \r\n",
        "# working of argmax() \r\n",
        "  \r\n",
        "import numpy as geek  \r\n",
        "  \r\n",
        "# Working on 2D array \r\n",
        "array =  geek.random.randint(16, size=(4, 4)) \r\n",
        "print(\"INPUT ARRAY : \\n\", array) \r\n",
        "  \r\n",
        "# No axis mentioned, so works on entire array \r\n",
        "print(\"\\nIndex of Max element : \", geek.argmax(array)) \r\n",
        "  \r\n",
        "# returning Indices of the max element \r\n",
        "# as per the indices \r\n",
        "  \r\n",
        "'''    \r\n",
        "   [[ 0  3  8 13] \r\n",
        "    [12 11  2 11] \r\n",
        "    [ 5 13  8  3] \r\n",
        "    [12 15  3  4]] \r\n",
        "      ^  ^  ^  ^ \r\n",
        "     12 15  8  13  - element \r\n",
        "     1  3   0  0   - indices \r\n",
        "'''\r\n",
        "print(\"\\nIndices of Max element by COLUMN (axis 0)): \", geek.argmax(array, axis = 0)) \r\n",
        "  \r\n",
        "  \r\n",
        "'''    \r\n",
        "                            ELEMENT   INDEX \r\n",
        "   ->[[ 0  3  8 13]           13        3 \r\n",
        "    ->[12 11  2 11]           12        0 \r\n",
        "    ->[ 5 13  8  3]           13        1 \r\n",
        "    ->[12 15  3  4]]          15        1 \r\n",
        "        \r\n",
        "'''\r\n",
        "print(\"\\nIndices of Max element by ROW (axis 1)): \", geek.argmax(array, axis = 1)) "
      ],
      "execution_count": null,
      "outputs": [
        {
          "output_type": "stream",
          "text": [
            "INPUT ARRAY : \n",
            " [[ 4  6  4  7]\n",
            " [12  8  2  8]\n",
            " [14 11 11  7]\n",
            " [13 10  3 11]]\n",
            "\n",
            "Index of Max element :  8\n",
            "\n",
            "Indices of Max element by COLUMN (axis 0)):  [2 2 2 3]\n",
            "\n",
            "Indices of Max element by ROW (axis 1)):  [3 0 0 0]\n"
          ],
          "name": "stdout"
        }
      ]
    }
  ]
}