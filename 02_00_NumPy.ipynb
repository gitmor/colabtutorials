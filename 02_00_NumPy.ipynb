{
  "nbformat": 4,
  "nbformat_minor": 0,
  "metadata": {
    "colab": {
      "name": "02_00_NumPy.ipynb",
      "provenance": [],
      "collapsed_sections": [],
      "authorship_tag": "ABX9TyPAGDfed0iPn3kxS2q/9XGc",
      "include_colab_link": true
    },
    "kernelspec": {
      "name": "python3",
      "display_name": "Python 3"
    }
  },
  "cells": [
    {
      "cell_type": "markdown",
      "metadata": {
        "id": "view-in-github",
        "colab_type": "text"
      },
      "source": [
        "<a href=\"https://colab.research.google.com/github/gitmor/colabtutorials/blob/main/02_00_NumPy.ipynb\" target=\"_parent\"><img src=\"https://colab.research.google.com/assets/colab-badge.svg\" alt=\"Open In Colab\"/></a>"
      ]
    },
    {
      "cell_type": "markdown",
      "metadata": {
        "id": "kUvOxeqA6Ooo"
      },
      "source": [
        "### NumPy basics\r\n",
        "\r\n",
        "NumPy is a python package for doing scientific computing.\r\n",
        "\r\n",
        "\r\n",
        "### Dive In\r\n",
        "So let us dive in since it is nore fun this way. Before we use any package, we need to import it. So let us go ahead & do it like so.\r\n",
        "\r\n",
        "\r\n",
        "\r\n"
      ]
    },
    {
      "cell_type": "markdown",
      "metadata": {
        "id": "CuUR2Bmc6ecE"
      },
      "source": [
        "### NumPy Manual and other useful references\r\n",
        "TODO: Fill in with some interesting & useful references to refer back later.\r\n",
        "\r\n"
      ]
    },
    {
      "cell_type": "markdown",
      "metadata": {
        "id": "iSH-cjQyBXqI"
      },
      "source": [
        "\r\n",
        "### Dive In\r\n",
        "So let us dive in since it is more fun this way. Before we use any package, we need to import it. So let us go ahead & do it like so."
      ]
    },
    {
      "cell_type": "code",
      "metadata": {
        "id": "11SzYcf562Dg"
      },
      "source": [
        "import numpy as np"
      ],
      "execution_count": null,
      "outputs": []
    },
    {
      "cell_type": "markdown",
      "metadata": {
        "id": "8VLVlE_167nA"
      },
      "source": [
        "The above line imports the numpy python package & we name the import as \"np\" as a shortcut to use in our prorgam.\r\n",
        "\r\n",
        "Now let us see if we can create an array using the numpy package. How about an array of strings? Is it possible?"
      ]
    },
    {
      "cell_type": "code",
      "metadata": {
        "id": "GT2WCi3p66dD"
      },
      "source": [
        "# Create a numpy array\r\n",
        "myStringArray = np.array([\"Hello\", \"World\"])"
      ],
      "execution_count": null,
      "outputs": []
    },
    {
      "cell_type": "markdown",
      "metadata": {
        "id": "NoCg2RI48dxo"
      },
      "source": [
        "Ok, so looks like it executed ok without errors. But how do we find out what is in the array? Can we print the contents of the arry? Let us try to print."
      ]
    },
    {
      "cell_type": "code",
      "metadata": {
        "colab": {
          "base_uri": "https://localhost:8080/"
        },
        "id": "27gIqwat8pOL",
        "outputId": "093f910f-aedd-42b0-96c6-257b3231519e"
      },
      "source": [
        "print(\"Printing each element of the array\")\r\n",
        "for i in myStringArray:\r\n",
        "  print(i)"
      ],
      "execution_count": null,
      "outputs": [
        {
          "output_type": "stream",
          "text": [
            "Printing each element of the array\n",
            "Hello\n",
            "World\n"
          ],
          "name": "stdout"
        }
      ]
    },
    {
      "cell_type": "markdown",
      "metadata": {
        "id": "TlfUC4Ov80pB"
      },
      "source": [
        "Wow! looks like we printed the elements of the string array. Now can we print the index also along with contents?"
      ]
    },
    {
      "cell_type": "code",
      "metadata": {
        "colab": {
          "base_uri": "https://localhost:8080/"
        },
        "id": "Pkccr4qf89sm",
        "outputId": "661d548b-2156-4ed6-c1a4-cfba9d71f969"
      },
      "source": [
        "print(\"\\nPrinting each element and its index\")\r\n",
        "for i,e in enumerate(myStringArray):\r\n",
        "  print(\"Index: {}, Content: {}\".format(i, e))"
      ],
      "execution_count": null,
      "outputs": [
        {
          "output_type": "stream",
          "text": [
            "\n",
            "Printing each element and their index\n",
            "Index: 0, Content: Hello\n",
            "Index: 1, Content: World\n"
          ],
          "name": "stdout"
        }
      ]
    },
    {
      "cell_type": "markdown",
      "metadata": {
        "id": "MlxmLCdqBIBI"
      },
      "source": [
        "Ok, now that we have tested some basic stuff, let us dive in for more detailed use of numpy arrays & also use numerical arrays & perhaps some array operations to make it useful."
      ]
    },
    {
      "cell_type": "markdown",
      "metadata": {
        "id": "SpUcMSLt7Y9-"
      },
      "source": [
        "<!--NAVIGATION-->\r\n",
        "< [Basics](ColabAndnumpyDemo0.ipynb) | [Contents](Index.ipynb) | [NumPy Arrays](02_01_NumPy_Arrays.ipynb) >\r\n",
        "\r\n",
        "<a href=\"https://colab.research.google.com/github/gitmor/colabtutorials/02_01_NumPy_Arrays.ipynb\"><img align=\"left\" src=\"https://colab.research.google.com/assets/colab-badge.svg\" alt=\"Open in Colab\" title=\"Open and Execute in Google Colaboratory\"></a>\r\n"
      ]
    }
  ]
}