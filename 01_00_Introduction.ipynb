{
  "nbformat": 4,
  "nbformat_minor": 0,
  "metadata": {
    "colab": {
      "name": "01_00_Introduction.ipynb",
      "provenance": [],
      "toc_visible": true,
      "include_colab_link": true
    },
    "kernelspec": {
      "name": "python3",
      "display_name": "Python 3"
    }
  },
  "cells": [
    {
      "cell_type": "markdown",
      "metadata": {
        "id": "view-in-github",
        "colab_type": "text"
      },
      "source": [
        "<a href=\"https://colab.research.google.com/github/gitmor/colabtutorials/blob/main/01_00_Introduction.ipynb\" target=\"_parent\"><img src=\"https://colab.research.google.com/assets/colab-badge.svg\" alt=\"Open In Colab\"/></a>"
      ]
    },
    {
      "cell_type": "markdown",
      "metadata": {
        "id": "dw1ObptKcf-f"
      },
      "source": [
        "### About the Project\n",
        "\n",
        "This project is my first effort at writing down something useful & learn various things related to Python, Numpy, Pandas (mainly) & also see if I can make it extensible as a way to teach my kids in the process. Obviously since I am not very familiar with how to structure a book, it might be a bit jumbled. But this is a learning exercise for me.\n",
        "\n",
        "### How to navigate this project?\n",
        "This is my \"gut feel\" for now. \n",
        "\n",
        "For advanced readers:\n",
        "- First skim through the [Basic Introduction](ColabAndnumpyDemo0.ipynb)  and then can jump into [Numpy](02_00_NumPy.ipynb) and [Pandas](03_00_Pandas.ipynb)\n",
        "\n",
        "For noob readers:\n",
        "- First skim through the [Basic Introduction](ColabAndnumpyDemo0.ipynb) and then can jump into [Basics](04_00_Basics.ipynb) and [Data Structures](05_00_DataStructures.ipynb) and then come to [Numpy](02_00_NumPy.ipynb) and [Pandas](03_00_Pandas.ipynb)\n",
        "\n",
        "It should be obvious by now that I have not thought through the strcuture well since my \"goal\" of this project is kinda nebulous. Nevertheless, making mistakes helps me learn. Perhaps next projects will be more structured & identify the audience of projects well.\n"
      ]
    },
    {
      "cell_type": "markdown",
      "metadata": {
        "id": "-v7_IBx-wthe"
      },
      "source": [
        "<!--NAVIGATION-->\n",
        "< [Preface](Preface.ipynb) | [Contents](Index.ipynb) | [Basic Demo](ColabAndnumpyDemo0.ipynb) >\n",
        "\n",
        "<a href=\"https://colab.research.google.com/github/gitmor/colabtutorials/01_00_Introduction.ipynb\"><img align=\"left\" src=\"https://colab.research.google.com/assets/colab-badge.svg\" alt=\"Open in Colab\" title=\"Open and Execute in Google Colaboratory\"></a>\n"
      ]
    }
  ]
}